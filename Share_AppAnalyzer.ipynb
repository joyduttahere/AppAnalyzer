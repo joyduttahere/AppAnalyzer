{
  "nbformat": 4,
  "nbformat_minor": 0,
  "metadata": {
    "colab": {
      "provenance": [],
      "include_colab_link": true
    },
    "kernelspec": {
      "name": "python3",
      "display_name": "Python 3"
    },
    "language_info": {
      "name": "python"
    }
  },
  "cells": [
    {
      "cell_type": "markdown",
      "metadata": {
        "id": "view-in-github",
        "colab_type": "text"
      },
      "source": [
        "<a href=\"https://colab.research.google.com/github/joyduttahere/AppAnalyzer/blob/main/Share_AppAnalyzer.ipynb\" target=\"_parent\"><img src=\"https://colab.research.google.com/assets/colab-badge.svg\" alt=\"Open In Colab\"/></a>"
      ]
    },
    {
      "cell_type": "markdown",
      "source": [
        "# App Analyzer Project\n",
        "\n",
        "Welcome to the App Analyzer project! This notebook will guide you through setting up and running the web application.\n",
        "\n",
        "**To get started, you will need:**\n",
        "### **1: Set the Correct Runtime (Crucial First Step!)**\n",
        "\n",
        "This application requires a GPU to run the AI models.\n",
        "1. In the top menu, go to **Runtime → Change runtime type**.\n",
        "2. In the popup window, select **T4 GPU** from the \"Hardware accelerator\" dropdown.\n",
        "3. Click **Save**.\n",
        "\n",
        "---\n",
        "\n",
        "### **2: Get Your 3 Required API Keys & Permissions**\n",
        "\n",
        "Before running any code, you must get the following free credentials and save them somewhere safe:\n",
        "\n",
        "**1. Hugging Face Access & Token:**\n",
        "   * **a) Get Model Access (Required):** You must first get approval for the gated models. Visit the pages below while logged into your Hugging Face account and accept the terms. Access is usually instant.\n",
        "       * **Mistral 7B:** [huggingface.co/mistralai/Mistral-7B-Instruct-v0.3](https://huggingface.co/mistralai/Mistral-7B-Instruct-v0.3)\n",
        "       * **Microsoft Phi-2:** [huggingface.co/microsoft/phi-2](https://huggingface.co/microsoft/phi-2)\n",
        "   * **b) Get Your Token:** After getting access, go to your [Hugging Face Tokens page](https://huggingface.co/settings/tokens). Create a new token with **\"read\"** permissions.\n",
        "\n",
        "**2. Google Gemini API Key:**\n",
        "   * Go to [Google AI Studio](https://aistudio.google.com/) and click **\"Get API key\"** -> **\"Create API key\"**.\n",
        "\n",
        "**3. ngrok Authtoken:**\n",
        "   * Sign up or log in at the [ngrok Dashboard](https://dashboard.ngrok.com/signup). Your authtoken is on the [\"Your Authtoken\" page](https://dashboard.ngrok.com/get-started/your-authtoken).\n",
        "\n",
        "---\n",
        "\n",
        "### **3: Run the Cells in Order**\n",
        "\n",
        "Now you are ready to run the code. The notebook will prompt you to add your 3 secret keys in the Secrets tab (🔑) before launching the application."
      ],
      "metadata": {
        "id": "xesVQUO8RmEB"
      }
    },
    {
      "cell_type": "code",
      "execution_count": 2,
      "metadata": {
        "id": "nWQAL8-ERa_J",
        "colab": {
          "base_uri": "https://localhost:8080/"
        },
        "outputId": "2e27d3f4-3b44-4136-88bf-cd611f4c80ca"
      },
      "outputs": [
        {
          "output_type": "stream",
          "name": "stdout",
          "text": [
            "Cloning the AppAnalyzer2.0 repository...\n",
            "Cloning into 'AppAnalyzer2.0'...\n",
            "fatal: could not read Username for 'https://github.com': No such device or address\n",
            "[Errno 2] No such file or directory: 'AppAnalyzer2.0'\n",
            "/content\n",
            "\n",
            "--- Installing all required packages ---\n",
            "\u001b[31mERROR: Could not open requirements file: [Errno 2] No such file or directory: 'requirements.txt'\u001b[0m\u001b[31m\n",
            "\u001b[0m\n",
            "✅ Environment setup complete.\n"
          ]
        }
      ],
      "source": [
        "# Cell 1: Clone Repository & Install Dependencies\n",
        "import os\n",
        "\n",
        "# --- Clone the Repository ---\n",
        "if not os.path.exists('AppAnalyzer2.0'):\n",
        "    print(\"Cloning the AppAnalyzer2.0 repository...\")\n",
        "    !git clone https://github.com/joyduttahere/AppAnalyzer2.0.git\n",
        "%cd AppAnalyzer2.0\n",
        "\n",
        "print(\"\\n--- Installing all required packages ---\")\n",
        "\n",
        "# --- Upgrade pip and install all dependencies ---\n",
        "!pip install --upgrade pip -q\n",
        "!pip install -r requirements.txt -q\n",
        "!pip install google-generativeai pyngrok -q\n",
        "!pip install jedi==0.18.2 -q # To resolve potential Colab ipython conflicts\n",
        "\n",
        "print(\"\\n✅ Environment setup complete.\")"
      ]
    },
    {
      "cell_type": "markdown",
      "source": [
        "### Step 2: Configure Your Secret Keys\n",
        "\n",
        "This application requires two secret keys to function:\n",
        "1.  An **ngrok authtoken** to create a public URL for the web app.\n",
        "2.  A **gemini_api_key** to generate Gemini response.\n",
        "3.  A **hf_token** to run classifier model.\n",
        "\n",
        "**Action Required:**\n",
        "1.  Click the **key icon (🔑)** in the left sidebar.\n",
        "2.  Click **\"Add a new secret\"** and create the following three secrets:\n",
        "    *   Name: `NGROK_AUTHTOKEN` | Value: `Your ngrok authtoken here`\n",
        "    *   Name: `GEMINI_API_KEY` | Value: `Your gemini authtoken here`\n",
        "    *   Name: `HF_TOKEN` | Value: `Your hugging face authtoken here`\n",
        "3.  Make sure the \"Notebook access\" toggle is **ON** for both secrets.\n",
        "\n",
        "The cell below will verify that the secrets have been added correctly."
      ],
      "metadata": {
        "id": "ACrrOeZlSHaZ"
      }
    },
    {
      "cell_type": "code",
      "source": [
        "# ### Step 3: Authenticate Services ###\n",
        "from google.colab import userdata\n",
        "import os\n",
        "\n",
        "print(\"Verifying secrets and authenticating...\")\n",
        "\n",
        "# Verify and get ngrok token\n",
        "ngrok_token = userdata.get('NGROK_AUTHTOKEN')\n",
        "gemini_key = userdata.get('GEMINI_API_KEY')\n",
        "hf_token = userdata.get('HF_TOKEN')\n",
        "if not ngrok_token:\n",
        "    raise ValueError(\"❌ Secret 'NGROK_AUTHTOKEN' not found. Please follow the instructions in the text cell above.\")\n",
        "else:\n",
        "    # Set it as an environment variable for the next cell\n",
        "    os.environ['NGROK_AUTHTOKEN'] = ngrok_token\n",
        "    print(\"✅ NGROK_AUTHTOKEN found.\")\n",
        "if not gemini_key:\n",
        "    raise ValueError(\"❌ Secret 'GEMINI_API_KEY' not found. Please follow the instructions in the text cell above.\")\n",
        "else:\n",
        "    # Set it as an environment variable for the next cell\n",
        "    os.environ['GEMINI_API_KEY'] = gemini_key\n",
        "    print(\"✅ GEMINI_API_KEY found.\")\n",
        "if hf_token:\n",
        "    !huggingface-cli login --token {hf_token}\n",
        "print(\"\\nAuthentication complete. You are ready to run the application.\")"
      ],
      "metadata": {
        "id": "jZ29bHl_SPvJ"
      },
      "execution_count": null,
      "outputs": []
    },
    {
      "cell_type": "markdown",
      "source": [
        "### Step 4: Run the Application\n",
        "\n",
        "You're all set! Run the cell below to start the Flask web server.\n",
        "\n",
        "A public URL from ngrok will appear. Click on it to open the application in a new tab."
      ],
      "metadata": {
        "id": "9qc3haGoSzOc"
      }
    },
    {
      "cell_type": "code",
      "source": [
        "# ### Step 4: Launch the App Analyzer ###\n",
        "\n",
        "# Note: The NGROK_AUTHTOKEN was set as an environment variable in the previous cell.\n",
        "!python app.py"
      ],
      "metadata": {
        "id": "thVdDXYFS5WW"
      },
      "execution_count": null,
      "outputs": []
    }
  ]
}