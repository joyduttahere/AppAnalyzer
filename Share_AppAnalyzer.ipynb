{
  "nbformat": 4,
  "nbformat_minor": 0,
  "metadata": {
    "colab": {
      "provenance": [],
      "authorship_tag": "ABX9TyNzX1/qdKh2slS2R9VP1gxN",
      "include_colab_link": true
    },
    "kernelspec": {
      "name": "python3",
      "display_name": "Python 3"
    },
    "language_info": {
      "name": "python"
    }
  },
  "cells": [
    {
      "cell_type": "markdown",
      "metadata": {
        "id": "view-in-github",
        "colab_type": "text"
      },
      "source": [
        "<a href=\"https://colab.research.google.com/github/joyduttahere/AppAnalyzer/blob/main/Share_AppAnalyzer.ipynb\" target=\"_parent\"><img src=\"https://colab.research.google.com/assets/colab-badge.svg\" alt=\"Open In Colab\"/></a>"
      ]
    },
    {
      "cell_type": "markdown",
      "source": [
        "# App Analyzer Project\n",
        "\n",
        "Welcome to the App Analyzer project! This notebook will guide you through setting up and running the web application.\n",
        "\n",
        "**To get started, you will need:**\n",
        "1.  A free [ngrok](https://dashboard.ngrok.com/signup) account and your authtoken.\n",
        "\n",
        "**Instructions:**\n",
        "1.  Add your secret keys in the \"Secrets\" tab (🔑) as instructed in Step 2.\n",
        "2.  Run the cells in order from top to bottom."
      ],
      "metadata": {
        "id": "xesVQUO8RmEB"
      }
    },
    {
      "cell_type": "code",
      "execution_count": null,
      "metadata": {
        "id": "nWQAL8-ERa_J"
      },
      "outputs": [],
      "source": [
        "# ### Step 1: Setup Environment and Install Dependencies ###\n",
        "\n",
        "print(\"Cloning the repository...\")\n",
        "!git clone https://github.com/joyduttahere/AppAnalyzer.git\n",
        "%cd AppAnalyzer\n",
        "\n",
        "print(\"\\nInstalling required packages...\")\n",
        "# Install all packages from your requirements file\n",
        "!pip install -r requirements.txt -q\n",
        "!pip install -q google-generativeai\n",
        "# Install Colab-specific packages\n",
        "!pip install pyngrok -q\n",
        "\n",
        "print(\"\\n✅ Environment setup complete.\")"
      ]
    },
    {
      "cell_type": "markdown",
      "source": [
        "### Step 2: Configure Your Secret Keys\n",
        "\n",
        "This application requires two secret keys to function:\n",
        "1.  An **ngrok authtoken** to create a public URL for the web app.\n",
        "\n",
        "**Action Required:**\n",
        "1.  Click the **key icon (🔑)** in the left sidebar.\n",
        "2.  Click **\"Add a new secret\"** and create the following two secrets:\n",
        "    *   Name: `NGROK_AUTHTOKEN` | Value: `Your ngrok authtoken here`\n",
        "3.  Make sure the \"Notebook access\" toggle is **ON** for both secrets.\n",
        "\n",
        "The cell below will verify that the secrets have been added correctly."
      ],
      "metadata": {
        "id": "ACrrOeZlSHaZ"
      }
    },
    {
      "cell_type": "code",
      "source": [
        "# ### Step 3: Authenticate Services ###\n",
        "from google.colab import userdata\n",
        "import os\n",
        "\n",
        "print(\"Verifying secrets and authenticating...\")\n",
        "\n",
        "# Verify and get ngrok token\n",
        "ngrok_token = userdata.get('NGROK_AUTHTOKEN')\n",
        "if not ngrok_token:\n",
        "    raise ValueError(\"❌ Secret 'NGROK_AUTHTOKEN' not found. Please follow the instructions in the text cell above.\")\n",
        "else:\n",
        "    # Set it as an environment variable for the next cell\n",
        "    os.environ['NGROK_AUTHTOKEN'] = ngrok_token\n",
        "    print(\"✅ NGROK_AUTHTOKEN found.\")\n",
        "\n",
        "print(\"\\nAuthentication complete. You are ready to run the application.\")"
      ],
      "metadata": {
        "id": "jZ29bHl_SPvJ"
      },
      "execution_count": null,
      "outputs": []
    },
    {
      "cell_type": "markdown",
      "source": [
        "### Step 4: Run the Application\n",
        "\n",
        "You're all set! Run the cell below to start the Flask web server.\n",
        "\n",
        "A public URL from ngrok will appear. Click on it to open the application in a new tab."
      ],
      "metadata": {
        "id": "9qc3haGoSzOc"
      }
    },
    {
      "cell_type": "code",
      "source": [
        "# ### Step 4: Launch the App Analyzer ###\n",
        "\n",
        "# Note: The NGROK_AUTHTOKEN was set as an environment variable in the previous cell.\n",
        "!python app.py"
      ],
      "metadata": {
        "id": "thVdDXYFS5WW"
      },
      "execution_count": null,
      "outputs": []
    }
  ]
}